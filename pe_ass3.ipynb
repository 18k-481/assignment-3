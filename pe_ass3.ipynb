{
  "nbformat": 4,
  "nbformat_minor": 0,
  "metadata": {
    "colab": {
      "name": "pe ass3",
      "provenance": [],
      "collapsed_sections": [],
      "mount_file_id": "1ilJqk26tD4teDobuSWK7UmYic3JNMiiF",
      "authorship_tag": "ABX9TyMWpXzFPj1YvhoEMOf7LaZP",
      "include_colab_link": true
    },
    "kernelspec": {
      "name": "python3",
      "display_name": "Python 3"
    }
  },
  "cells": [
    {
      "cell_type": "markdown",
      "metadata": {
        "id": "view-in-github",
        "colab_type": "text"
      },
      "source": [
        "<a href=\"https://colab.research.google.com/github/18k-481/assignment-3/blob/master/pe_ass3.ipynb\" target=\"_parent\"><img src=\"https://colab.research.google.com/assets/colab-badge.svg\" alt=\"Open In Colab\"/></a>"
      ]
    },
    {
      "cell_type": "code",
      "metadata": {
        "id": "78Vzb84Ax2CX",
        "colab_type": "code",
        "colab": {}
      },
      "source": [
        "#filling null values with mean\n",
        "import pandas as pd\n",
        "import matplotlib.pyplot as plt\n",
        "df = pd.read_csv('/content/drive/My Drive/Share mobile_cleaned.csv')\n",
        "col=df.columns.tolist()\n",
        "for i in range(len(col)):\n",
        "  x=df.mean(axis=1)\n",
        "  df=df.fillna(x)\n",
        "df.describe()"
      ],
      "execution_count": null,
      "outputs": []
    },
    {
      "cell_type": "code",
      "metadata": {
        "id": "DCAKu1552a2O",
        "colab_type": "code",
        "colab": {}
      },
      "source": [
        "#corelation between price and other attributes\n",
        "col=df.columns.tolist()\n",
        "mid=len(col)//2\n",
        "end=col[mid:]\n",
        "col.remove('price')\n",
        "for i in range((len(col))//2):\n",
        "  df.plot(x='price',y=col[i])\n",
        "\n"
      ],
      "execution_count": null,
      "outputs": []
    },
    {
      "cell_type": "code",
      "metadata": {
        "id": "MslRdTmxPIV4",
        "colab_type": "code",
        "colab": {}
      },
      "source": [
        "for i in range(len(end)):\n",
        "  df.plot(x='price',y=end[i])"
      ],
      "execution_count": null,
      "outputs": []
    },
    {
      "cell_type": "markdown",
      "metadata": {
        "id": "htjk2ngs5oLF",
        "colab_type": "text"
      },
      "source": [
        "3. Compute outer product of 2 vectors."
      ]
    },
    {
      "cell_type": "code",
      "metadata": {
        "id": "HyztyU6k3Tc5",
        "colab_type": "code",
        "colab": {}
      },
      "source": [
        "import numpy as np\n",
        "a=np.array([[1,2],[3,4]])\n",
        "b=np.array([[1,0],[0,1]])\n",
        "print(np.outer(b,a))"
      ],
      "execution_count": null,
      "outputs": []
    },
    {
      "cell_type": "markdown",
      "metadata": {
        "id": "m-mCP2Cf5wOH",
        "colab_type": "text"
      },
      "source": [
        "4.Write a NumPy program to compute the condition number of a given matrix."
      ]
    },
    {
      "cell_type": "code",
      "metadata": {
        "id": "pfsh7IAG508J",
        "colab_type": "code",
        "colab": {}
      },
      "source": [
        "from numpy import linalg as alg\n",
        "a=np.array([[1,2],[3,4]])\n",
        "print(alg.cond(a))"
      ],
      "execution_count": null,
      "outputs": []
    },
    {
      "cell_type": "markdown",
      "metadata": {
        "id": "E73nIpIO64i8",
        "colab_type": "text"
      },
      "source": [
        "5.write a NumPy program to compute the sum of the diagonal element of a given array(matrix)"
      ]
    },
    {
      "cell_type": "code",
      "metadata": {
        "id": "0X7qz4x86_Zo",
        "colab_type": "code",
        "colab": {}
      },
      "source": [
        "a=np.array([[1,2,3],[4,5,6],[7,8,9]])\n",
        "print(np.trace(a))"
      ],
      "execution_count": null,
      "outputs": []
    }
  ]
}